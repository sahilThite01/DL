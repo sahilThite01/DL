{
 "cells": [
  {
   "cell_type": "code",
   "execution_count": 12,
   "metadata": {
    "id": "dXcLkyM1bTY8"
   },
   "outputs": [],
   "source": [
    "import matplotlib.pyplot as plt\n",
    "import seaborn as sns\n",
    "import matplotlib as mpl\n",
    "import matplotlib.pylab as pylab\n",
    "import numpy as np\n",
    "import pandas as pd\n",
    "import random\n",
    "%matplotlib inline"
   ]
  },
  {
   "cell_type": "code",
   "execution_count": 13,
   "metadata": {
    "id": "DDsVuN5VbTZA"
   },
   "outputs": [],
   "source": [
    "import re"
   ]
  },
  {
   "cell_type": "code",
   "execution_count": 14,
   "metadata": {
    "id": "XHmfWouLbTZA"
   },
   "outputs": [
    {
     "data": {
      "text/plain": [
       "'Throughout my career, I have had the opportunity to work on this type of network  a diverse range of mobile app projects. My proficiency in Flutter, along with my Android development skills, has allowed me to create user-friendly and high-performance applications. I take pride in my ability to transform creative concepts into functional, feature-rich apps that deliver exceptional user experiences.'"
      ]
     },
     "execution_count": 14,
     "metadata": {},
     "output_type": "execute_result"
    }
   ],
   "source": [
    "sentences = \"\"\"Throughout my career, I have had the opportunity to work on this type of network  a diverse range of mobile app projects. My proficiency in Flutter, along with my Android development skills, has allowed me to create user-friendly and high-performance applications. I take pride in my ability to transform creative concepts into functional, feature-rich apps that deliver exceptional user experiences.\"\"\"\n",
    "sentences\n",
    "# with open('input.txt', 'r') as file:\n",
    "#     content = file.read()\n",
    "\n",
    "# # Print the content\n",
    "# print(content)"
   ]
  },
  {
   "cell_type": "code",
   "execution_count": 15,
   "metadata": {},
   "outputs": [],
   "source": [
    "# sentences=content\n",
    "# sentences"
   ]
  },
  {
   "cell_type": "markdown",
   "metadata": {
    "id": "QdmP4i71bTZB"
   },
   "source": [
    "Clean Data"
   ]
  },
  {
   "cell_type": "code",
   "execution_count": 16,
   "metadata": {
    "id": "BrWgAUrdbTZC"
   },
   "outputs": [],
   "source": [
    "# remove special characters\n",
    "sentences = re.sub('[^A-Za-z0-9]+', ' ', sentences)\n",
    "\n",
    "# remove 1 letter words\n",
    "sentences = re.sub(r'(?:^| )\\w(?:$| )', ' ', sentences).strip()\n",
    "\n",
    "# lower all characters\n",
    "sentences = sentences.lower()"
   ]
  },
  {
   "cell_type": "markdown",
   "metadata": {
    "id": "MdGdE72abTZD"
   },
   "source": [
    "Vocabulary"
   ]
  },
  {
   "cell_type": "code",
   "execution_count": 17,
   "metadata": {
    "id": "3GI4bb5YbTZD"
   },
   "outputs": [
    {
     "data": {
      "text/plain": [
       "{'ability',\n",
       " 'allowed',\n",
       " 'along',\n",
       " 'and',\n",
       " 'android',\n",
       " 'app',\n",
       " 'applications',\n",
       " 'apps',\n",
       " 'career',\n",
       " 'concepts',\n",
       " 'create',\n",
       " 'creative',\n",
       " 'deliver',\n",
       " 'development',\n",
       " 'diverse',\n",
       " 'exceptional',\n",
       " 'experiences',\n",
       " 'feature',\n",
       " 'flutter',\n",
       " 'friendly',\n",
       " 'functional',\n",
       " 'had',\n",
       " 'has',\n",
       " 'have',\n",
       " 'high',\n",
       " 'in',\n",
       " 'into',\n",
       " 'me',\n",
       " 'mobile',\n",
       " 'my',\n",
       " 'network',\n",
       " 'of',\n",
       " 'on',\n",
       " 'opportunity',\n",
       " 'performance',\n",
       " 'pride',\n",
       " 'proficiency',\n",
       " 'projects',\n",
       " 'range',\n",
       " 'rich',\n",
       " 'skills',\n",
       " 'take',\n",
       " 'that',\n",
       " 'the',\n",
       " 'this',\n",
       " 'throughout',\n",
       " 'to',\n",
       " 'transform',\n",
       " 'type',\n",
       " 'user',\n",
       " 'with',\n",
       " 'work'}"
      ]
     },
     "execution_count": 17,
     "metadata": {},
     "output_type": "execute_result"
    }
   ],
   "source": [
    "words = sentences.split()\n",
    "vocab = set(words)\n",
    "vocab"
   ]
  },
  {
   "cell_type": "code",
   "execution_count": 18,
   "metadata": {
    "id": "ogsVx1SLbTZE"
   },
   "outputs": [],
   "source": [
    "vocab_size = len(vocab)\n",
    "embed_dim = 10              # each word will be represented by a 10-dimensional vector (specifies how detailed each word’s representation will be)\n",
    "context_size = 2"
   ]
  },
  {
   "cell_type": "markdown",
   "metadata": {
    "id": "leJnMmNtbTZF"
   },
   "source": [
    "Implementation"
   ]
  },
  {
   "cell_type": "code",
   "execution_count": 19,
   "metadata": {
    "id": "VNOe97hFbTZF"
   },
   "outputs": [],
   "source": [
    "word_to_ix = {word: i for i, word in enumerate(vocab)}\n",
    "ix_to_word = {i: word for i, word in enumerate(vocab)}"
   ]
  },
  {
   "cell_type": "markdown",
   "metadata": {
    "id": "HY1LKbf1bTZF"
   },
   "source": [
    "Data bags"
   ]
  },
  {
   "cell_type": "code",
   "execution_count": 20,
   "metadata": {
    "colab": {
     "base_uri": "https://localhost:8080/"
    },
    "id": "wl0VBMgCbTZF",
    "outputId": "2d25efe0-78e0-4a7e-cdde-92d43e0f8d10"
   },
   "outputs": [
    {
     "name": "stdout",
     "output_type": "stream",
     "text": [
      "[(['throughout', 'my', 'have', 'had'], 'career'), (['my', 'career', 'had', 'the'], 'have'), (['career', 'have', 'the', 'opportunity'], 'had'), (['have', 'had', 'opportunity', 'to'], 'the'), (['had', 'the', 'to', 'work'], 'opportunity')]\n"
     ]
    }
   ],
   "source": [
    "# data - [(context), target]\n",
    "\n",
    "data = []\n",
    "for i in range(2, len(words) - 2):\n",
    "    context = [words[i - 2], words[i - 1], words[i + 1], words[i + 2]]\n",
    "    target = words[i]\n",
    "    data.append((context, target))\n",
    "print(data[:5])"
   ]
  },
  {
   "cell_type": "markdown",
   "metadata": {
    "id": "OiTZPe3GbTZG"
   },
   "source": [
    "Embeddings"
   ]
  },
  {
   "cell_type": "code",
   "execution_count": 21,
   "metadata": {
    "id": "51IcQMkQbTZG"
   },
   "outputs": [],
   "source": [
    "embeddings =  np.random.random_sample((vocab_size, embed_dim))"
   ]
  },
  {
   "cell_type": "markdown",
   "metadata": {
    "id": "nrc3qPlebTZH"
   },
   "source": [
    "Linear Model"
   ]
  },
  {
   "cell_type": "code",
   "execution_count": 22,
   "metadata": {
    "id": "Y_x_j_7mbTZH"
   },
   "outputs": [],
   "source": [
    "def linear(m, theta):\n",
    "    w = theta\n",
    "    return m.dot(w)"
   ]
  },
  {
   "cell_type": "markdown",
   "metadata": {
    "id": "bHs2L3lobTZH"
   },
   "source": [
    "Log softmax + NLLloss = Cross Entropy"
   ]
  },
  {
   "cell_type": "code",
   "execution_count": 23,
   "metadata": {
    "id": "Ega8iwJ-bTZH"
   },
   "outputs": [],
   "source": [
    "def log_softmax(x):\n",
    "    e_x = np.exp(x - np.max(x))\n",
    "    return np.log(e_x / e_x.sum())"
   ]
  },
  {
   "cell_type": "code",
   "execution_count": null,
   "metadata": {
    "id": "M8JW6O5ZbTZH"
   },
   "outputs": [],
   "source": [
    "# negative log likelihood loss\n",
    "def NLLLoss(logs, targets):\n",
    "    out = logs[range(len(targets)), targets]\n",
    "    return -out.sum()/len(out)"
   ]
  },
  {
   "cell_type": "code",
   "execution_count": 25,
   "metadata": {
    "id": "7XoFf8pVbTZH"
   },
   "outputs": [],
   "source": [
    "def log_softmax_crossentropy_with_logits(logits,target):\n",
    "\n",
    "    out = np.zeros_like(logits)\n",
    "    out[np.arange(len(logits)),target] = 1\n",
    "\n",
    "    softmax = np.exp(logits) / np.exp(logits).sum(axis=-1,keepdims=True)\n",
    "\n",
    "    return (- out + softmax) / logits.shape[0]"
   ]
  },
  {
   "cell_type": "markdown",
   "metadata": {
    "id": "LiY27jXibTZH"
   },
   "source": [
    "Forward function"
   ]
  },
  {
   "cell_type": "code",
   "execution_count": 26,
   "metadata": {
    "id": "ioUM6Ud6bTZH"
   },
   "outputs": [],
   "source": [
    "def forward(context_idxs, theta):\n",
    "    m = embeddings[context_idxs].reshape(1, -1)\n",
    "    n = linear(m, theta)\n",
    "    o = log_softmax(n)\n",
    "\n",
    "    return m, n, o"
   ]
  },
  {
   "cell_type": "markdown",
   "metadata": {
    "id": "iMhsJ4vbbTZI"
   },
   "source": [
    "Backward function"
   ]
  },
  {
   "cell_type": "code",
   "execution_count": 27,
   "metadata": {
    "id": "mnC0kWTzbTZI"
   },
   "outputs": [],
   "source": [
    "def backward(preds, theta, target_idxs):\n",
    "    m, n, o = preds\n",
    "\n",
    "    dlog = log_softmax_crossentropy_with_logits(n, target_idxs)\n",
    "    dw = m.T.dot(dlog)\n",
    "\n",
    "    return dw"
   ]
  },
  {
   "cell_type": "markdown",
   "metadata": {
    "id": "dXB3Z9FObTZI"
   },
   "source": [
    "Optimize function"
   ]
  },
  {
   "cell_type": "code",
   "execution_count": 28,
   "metadata": {
    "id": "pm-T7xXAbTZI"
   },
   "outputs": [],
   "source": [
    "def optimize(theta, grad, lr=0.03):\n",
    "    theta -= grad * lr\n",
    "    return theta"
   ]
  },
  {
   "cell_type": "markdown",
   "metadata": {
    "id": "7lKLbqDobTZI"
   },
   "source": [
    "Training"
   ]
  },
  {
   "cell_type": "code",
   "execution_count": 29,
   "metadata": {
    "id": "fWKaXuTrbTZI"
   },
   "outputs": [],
   "source": [
    "theta = np.random.uniform(-1, 1, (2 * context_size * embed_dim, vocab_size))"
   ]
  },
  {
   "cell_type": "code",
   "execution_count": 30,
   "metadata": {
    "id": "vKxQ6GKrbTZI"
   },
   "outputs": [],
   "source": [
    "epoch_losses = {}\n",
    "\n",
    "for epoch in range(80):\n",
    "\n",
    "    losses =  []\n",
    "\n",
    "    for context, target in data:\n",
    "        context_idxs = np.array([word_to_ix[w] for w in context])\n",
    "        preds = forward(context_idxs, theta)\n",
    "\n",
    "        target_idxs = np.array([word_to_ix[target]])\n",
    "        loss = NLLLoss(preds[-1], target_idxs)\n",
    "\n",
    "        losses.append(loss)\n",
    "\n",
    "        grad = backward(preds, theta, target_idxs)\n",
    "        theta = optimize(theta, grad, lr=0.03)\n",
    "\n",
    "\n",
    "    epoch_losses[epoch] = losses"
   ]
  },
  {
   "cell_type": "markdown",
   "metadata": {
    "id": "-6NuRFFWbTZI"
   },
   "source": [
    "Analyze"
   ]
  },
  {
   "cell_type": "markdown",
   "metadata": {
    "id": "ARvr6NTkbTZI"
   },
   "source": [
    "Plot loss/epoch"
   ]
  },
  {
   "cell_type": "code",
   "execution_count": 31,
   "metadata": {
    "colab": {
     "base_uri": "https://localhost:8080/",
     "height": 519
    },
    "id": "N6mePIotbTZJ",
    "outputId": "b46712d9-c6e5-4805-ee33-d6697c23f865"
   },
   "outputs": [
    {
     "data": {
      "text/plain": [
       "Text(0, 0.5, 'Losses')"
      ]
     },
     "execution_count": 31,
     "metadata": {},
     "output_type": "execute_result"
    },
    {
     "data": {
      "image/png": "[encoded data removed]",
      "text/plain": [
       "<Figure size 640x480 with 1 Axes>"
      ]
     },
     "metadata": {},
     "output_type": "display_data"
    }
   ],
   "source": [
    "ix = np.arange(0,80)\n",
    "\n",
    "fig = plt.figure()\n",
    "fig.suptitle('Epoch/Losses', fontsize=20)\n",
    "plt.plot(ix,[epoch_losses[i][0] for i in ix])\n",
    "plt.xlabel('Epochs', fontsize=12)\n",
    "plt.ylabel('Losses', fontsize=12)"
   ]
  },
  {
   "cell_type": "markdown",
   "metadata": {
    "id": "_VrjN6wcbTZJ"
   },
   "source": [
    "Predict function"
   ]
  },
  {
   "cell_type": "code",
   "execution_count": 32,
   "metadata": {},
   "outputs": [],
   "source": [
    "def predict_from_context(data):\n",
    "    # Randomly select a context-target pair for prediction\n",
    "    random_pair = random.choice(data)\n",
    "    context, target = random_pair\n",
    "    print(f\"\\nPrediction based on context: {context}\")\n",
    "    return target"
   ]
  },
  {
   "cell_type": "code",
   "execution_count": 33,
   "metadata": {
    "colab": {
     "base_uri": "https://localhost:8080/",
     "height": 36
    },
    "id": "JKOgMfv1bTZJ",
    "outputId": "e0ad4725-7a5b-4c7e-ccaf-a8e51e29400a"
   },
   "outputs": [
    {
     "name": "stdout",
     "output_type": "stream",
     "text": [
      "\n",
      "Prediction based on context: ['apps', 'that', 'exceptional', 'user']\n"
     ]
    },
    {
     "data": {
      "text/plain": [
       "'deliver'"
      ]
     },
     "execution_count": 33,
     "metadata": {},
     "output_type": "execute_result"
    }
   ],
   "source": [
    "\n",
    "predict_from_context(data)"
   ]
  },
  {
   "cell_type": "markdown",
   "metadata": {
    "id": "Xfk9xeBpbTZJ"
   },
   "source": [
    "Accuracy"
   ]
  },
  {
   "cell_type": "code",
   "execution_count": 34,
   "metadata": {
    "id": "udAwWDKEbTZJ"
   },
   "outputs": [],
   "source": [
    "def accuracy():\n",
    "    wrong = 0\n",
    "\n",
    "    for context, target in data:\n",
    "        if(predict_from_context(data)==target):\n",
    "            wrong += 1\n",
    "    return (1 - (wrong / len(data)))"
   ]
  },
  {
   "cell_type": "code",
   "execution_count": 35,
   "metadata": {
    "colab": {
     "base_uri": "https://localhost:8080/"
    },
    "id": "-IUwOB4BbTZJ",
    "outputId": "ce200554-dfa5-44bd-e5b5-cc53611411a7"
   },
   "outputs": [
    {
     "name": "stdout",
     "output_type": "stream",
     "text": [
      "\n",
      "Prediction based on context: ['to', 'create', 'friendly', 'and']\n",
      "\n",
      "Prediction based on context: ['friendly', 'and', 'performance', 'applications']\n",
      "\n",
      "Prediction based on context: ['concepts', 'into', 'feature', 'rich']\n",
      "\n",
      "Prediction based on context: ['create', 'user', 'and', 'high']\n",
      "\n",
      "Prediction based on context: ['on', 'this', 'of', 'network']\n",
      "\n",
      "Prediction based on context: ['ability', 'to', 'creative', 'concepts']\n",
      "\n",
      "Prediction based on context: ['has', 'allowed', 'to', 'create']\n",
      "\n",
      "Prediction based on context: ['mobile', 'app', 'my', 'proficiency']\n",
      "\n",
      "Prediction based on context: ['my', 'career', 'had', 'the']\n",
      "\n",
      "Prediction based on context: ['to', 'create', 'friendly', 'and']\n",
      "\n",
      "Prediction based on context: ['mobile', 'app', 'my', 'proficiency']\n",
      "\n",
      "Prediction based on context: ['app', 'projects', 'proficiency', 'in']\n",
      "\n",
      "Prediction based on context: ['skills', 'has', 'me', 'to']\n",
      "\n",
      "Prediction based on context: ['had', 'the', 'to', 'work']\n",
      "\n",
      "Prediction based on context: ['has', 'allowed', 'to', 'create']\n",
      "\n",
      "Prediction based on context: ['with', 'my', 'development', 'skills']\n",
      "\n",
      "Prediction based on context: ['have', 'had', 'opportunity', 'to']\n",
      "\n",
      "Prediction based on context: ['functional', 'feature', 'apps', 'that']\n",
      "\n",
      "Prediction based on context: ['mobile', 'app', 'my', 'proficiency']\n",
      "\n",
      "Prediction based on context: ['take', 'pride', 'my', 'ability']\n",
      "\n",
      "Prediction based on context: ['has', 'allowed', 'to', 'create']\n",
      "\n",
      "Prediction based on context: ['type', 'of', 'diverse', 'range']\n",
      "\n",
      "Prediction based on context: ['ability', 'to', 'creative', 'concepts']\n",
      "\n",
      "Prediction based on context: ['pride', 'in', 'ability', 'to']\n",
      "\n",
      "Prediction based on context: ['my', 'proficiency', 'flutter', 'along']\n",
      "\n",
      "Prediction based on context: ['proficiency', 'in', 'along', 'with']\n",
      "\n",
      "Prediction based on context: ['diverse', 'range', 'mobile', 'app']\n",
      "\n",
      "Prediction based on context: ['range', 'of', 'app', 'projects']\n",
      "\n",
      "Prediction based on context: ['friendly', 'and', 'performance', 'applications']\n",
      "\n",
      "Prediction based on context: ['in', 'my', 'to', 'transform']\n",
      "\n",
      "Prediction based on context: ['skills', 'has', 'me', 'to']\n",
      "\n",
      "Prediction based on context: ['rich', 'apps', 'deliver', 'exceptional']\n",
      "\n",
      "Prediction based on context: ['proficiency', 'in', 'along', 'with']\n",
      "\n",
      "Prediction based on context: ['feature', 'rich', 'that', 'deliver']\n",
      "\n",
      "Prediction based on context: ['throughout', 'my', 'have', 'had']\n",
      "\n",
      "Prediction based on context: ['have', 'had', 'opportunity', 'to']\n",
      "\n",
      "Prediction based on context: ['performance', 'applications', 'pride', 'in']\n",
      "\n",
      "Prediction based on context: ['proficiency', 'in', 'along', 'with']\n",
      "\n",
      "Prediction based on context: ['feature', 'rich', 'that', 'deliver']\n",
      "\n",
      "Prediction based on context: ['in', 'my', 'to', 'transform']\n",
      "\n",
      "Prediction based on context: ['range', 'of', 'app', 'projects']\n",
      "\n",
      "Prediction based on context: ['this', 'type', 'network', 'diverse']\n",
      "\n",
      "Prediction based on context: ['development', 'skills', 'allowed', 'me']\n",
      "\n",
      "Prediction based on context: ['my', 'android', 'skills', 'has']\n",
      "\n",
      "Prediction based on context: ['mobile', 'app', 'my', 'proficiency']\n",
      "\n",
      "Prediction based on context: ['network', 'diverse', 'of', 'mobile']\n",
      "\n",
      "Prediction based on context: ['type', 'of', 'diverse', 'range']\n",
      "\n",
      "Prediction based on context: ['have', 'had', 'opportunity', 'to']\n",
      "\n",
      "Prediction based on context: ['this', 'type', 'network', 'diverse']\n",
      "\n",
      "Prediction based on context: ['my', 'career', 'had', 'the']\n",
      "\n",
      "Prediction based on context: ['in', 'my', 'to', 'transform']\n",
      "\n",
      "Prediction based on context: ['throughout', 'my', 'have', 'had']\n",
      "\n",
      "Prediction based on context: ['me', 'to', 'user', 'friendly']\n",
      "\n",
      "Prediction based on context: ['functional', 'feature', 'apps', 'that']\n",
      "\n",
      "Prediction based on context: ['opportunity', 'to', 'on', 'this']\n",
      "\n",
      "Prediction based on context: ['and', 'high', 'applications', 'take']\n"
     ]
    },
    {
     "data": {
      "text/plain": [
       "1.0"
      ]
     },
     "execution_count": 35,
     "metadata": {},
     "output_type": "execute_result"
    }
   ],
   "source": [
    "accuracy()"
   ]
  },
  {
   "cell_type": "code",
   "execution_count": null,
   "metadata": {
    "id": "iJiUIyLicCA1"
   },
   "outputs": [],
   "source": []
  },
  {
   "cell_type": "code",
   "execution_count": null,
   "metadata": {},
   "outputs": [],
   "source": []
  }
 ],
 "metadata": {
  "colab": {
   "provenance": []
  },
  "kernelspec": {
   "display_name": "tf",
   "language": "python",
   "name": "python3"
  },
  "language_info": {
   "codemirror_mode": {
    "name": "ipython",
    "version": 3
   },
   "file_extension": ".py",
   "mimetype": "text/x-python",
   "name": "python",
   "nbconvert_exporter": "python",
   "pygments_lexer": "ipython3",
   "version": "3.9.0"
  }
 },
 "nbformat": 4,
 "nbformat_minor": 4
}
